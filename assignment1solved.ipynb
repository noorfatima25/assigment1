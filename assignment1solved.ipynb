{
 "cells": [
  {
   "cell_type": "code",
   "execution_count": 20,
   "id": "d7789897",
   "metadata": {},
   "outputs": [],
   "source": [
    "import numpy as np\n",
    "import pandas as pd\n",
    "df=pd.read_csv('jsrt_metadata.csv')\n"
   ]
  },
  {
   "cell_type": "code",
   "execution_count": 21,
   "id": "79e8fce7",
   "metadata": {},
   "outputs": [],
   "source": [
    "df.replace('unknown',np.nan, inplace=True)\n",
    "df.replace('non-nodule',np.nan,inplace=True)"
   ]
  },
  {
   "cell_type": "code",
   "execution_count": 22,
   "id": "504e9650",
   "metadata": {},
   "outputs": [
    {
     "data": {
      "text/html": [
       "<div>\n",
       "<style scoped>\n",
       "    .dataframe tbody tr th:only-of-type {\n",
       "        vertical-align: middle;\n",
       "    }\n",
       "\n",
       "    .dataframe tbody tr th {\n",
       "        vertical-align: top;\n",
       "    }\n",
       "\n",
       "    .dataframe thead th {\n",
       "        text-align: right;\n",
       "    }\n",
       "</style>\n",
       "<table border=\"1\" class=\"dataframe\">\n",
       "  <thead>\n",
       "    <tr style=\"text-align: right;\">\n",
       "      <th></th>\n",
       "      <th>study_id</th>\n",
       "      <th>subtlety</th>\n",
       "      <th>size</th>\n",
       "      <th>age</th>\n",
       "      <th>gender</th>\n",
       "      <th>x</th>\n",
       "      <th>y</th>\n",
       "      <th>state</th>\n",
       "      <th>position</th>\n",
       "      <th>diagnosis</th>\n",
       "    </tr>\n",
       "  </thead>\n",
       "  <tbody>\n",
       "    <tr>\n",
       "      <th>0</th>\n",
       "      <td>False</td>\n",
       "      <td>False</td>\n",
       "      <td>False</td>\n",
       "      <td>False</td>\n",
       "      <td>False</td>\n",
       "      <td>False</td>\n",
       "      <td>False</td>\n",
       "      <td>False</td>\n",
       "      <td>False</td>\n",
       "      <td>False</td>\n",
       "    </tr>\n",
       "    <tr>\n",
       "      <th>1</th>\n",
       "      <td>False</td>\n",
       "      <td>False</td>\n",
       "      <td>False</td>\n",
       "      <td>False</td>\n",
       "      <td>False</td>\n",
       "      <td>False</td>\n",
       "      <td>False</td>\n",
       "      <td>False</td>\n",
       "      <td>False</td>\n",
       "      <td>False</td>\n",
       "    </tr>\n",
       "    <tr>\n",
       "      <th>2</th>\n",
       "      <td>False</td>\n",
       "      <td>False</td>\n",
       "      <td>False</td>\n",
       "      <td>False</td>\n",
       "      <td>False</td>\n",
       "      <td>False</td>\n",
       "      <td>False</td>\n",
       "      <td>False</td>\n",
       "      <td>False</td>\n",
       "      <td>False</td>\n",
       "    </tr>\n",
       "    <tr>\n",
       "      <th>3</th>\n",
       "      <td>False</td>\n",
       "      <td>False</td>\n",
       "      <td>False</td>\n",
       "      <td>False</td>\n",
       "      <td>False</td>\n",
       "      <td>False</td>\n",
       "      <td>False</td>\n",
       "      <td>False</td>\n",
       "      <td>False</td>\n",
       "      <td>False</td>\n",
       "    </tr>\n",
       "    <tr>\n",
       "      <th>4</th>\n",
       "      <td>False</td>\n",
       "      <td>False</td>\n",
       "      <td>False</td>\n",
       "      <td>False</td>\n",
       "      <td>False</td>\n",
       "      <td>False</td>\n",
       "      <td>False</td>\n",
       "      <td>False</td>\n",
       "      <td>False</td>\n",
       "      <td>False</td>\n",
       "    </tr>\n",
       "    <tr>\n",
       "      <th>...</th>\n",
       "      <td>...</td>\n",
       "      <td>...</td>\n",
       "      <td>...</td>\n",
       "      <td>...</td>\n",
       "      <td>...</td>\n",
       "      <td>...</td>\n",
       "      <td>...</td>\n",
       "      <td>...</td>\n",
       "      <td>...</td>\n",
       "      <td>...</td>\n",
       "    </tr>\n",
       "    <tr>\n",
       "      <th>242</th>\n",
       "      <td>False</td>\n",
       "      <td>True</td>\n",
       "      <td>True</td>\n",
       "      <td>False</td>\n",
       "      <td>False</td>\n",
       "      <td>True</td>\n",
       "      <td>True</td>\n",
       "      <td>True</td>\n",
       "      <td>True</td>\n",
       "      <td>True</td>\n",
       "    </tr>\n",
       "    <tr>\n",
       "      <th>243</th>\n",
       "      <td>False</td>\n",
       "      <td>True</td>\n",
       "      <td>True</td>\n",
       "      <td>False</td>\n",
       "      <td>False</td>\n",
       "      <td>True</td>\n",
       "      <td>True</td>\n",
       "      <td>True</td>\n",
       "      <td>True</td>\n",
       "      <td>True</td>\n",
       "    </tr>\n",
       "    <tr>\n",
       "      <th>244</th>\n",
       "      <td>False</td>\n",
       "      <td>True</td>\n",
       "      <td>True</td>\n",
       "      <td>False</td>\n",
       "      <td>False</td>\n",
       "      <td>True</td>\n",
       "      <td>True</td>\n",
       "      <td>True</td>\n",
       "      <td>True</td>\n",
       "      <td>True</td>\n",
       "    </tr>\n",
       "    <tr>\n",
       "      <th>245</th>\n",
       "      <td>False</td>\n",
       "      <td>True</td>\n",
       "      <td>True</td>\n",
       "      <td>False</td>\n",
       "      <td>False</td>\n",
       "      <td>True</td>\n",
       "      <td>True</td>\n",
       "      <td>True</td>\n",
       "      <td>True</td>\n",
       "      <td>True</td>\n",
       "    </tr>\n",
       "    <tr>\n",
       "      <th>246</th>\n",
       "      <td>False</td>\n",
       "      <td>True</td>\n",
       "      <td>True</td>\n",
       "      <td>False</td>\n",
       "      <td>False</td>\n",
       "      <td>True</td>\n",
       "      <td>True</td>\n",
       "      <td>True</td>\n",
       "      <td>True</td>\n",
       "      <td>True</td>\n",
       "    </tr>\n",
       "  </tbody>\n",
       "</table>\n",
       "<p>247 rows × 10 columns</p>\n",
       "</div>"
      ],
      "text/plain": [
       "     study_id  subtlety   size    age  gender      x      y  state  position  \\\n",
       "0       False     False  False  False   False  False  False  False     False   \n",
       "1       False     False  False  False   False  False  False  False     False   \n",
       "2       False     False  False  False   False  False  False  False     False   \n",
       "3       False     False  False  False   False  False  False  False     False   \n",
       "4       False     False  False  False   False  False  False  False     False   \n",
       "..        ...       ...    ...    ...     ...    ...    ...    ...       ...   \n",
       "242     False      True   True  False   False   True   True   True      True   \n",
       "243     False      True   True  False   False   True   True   True      True   \n",
       "244     False      True   True  False   False   True   True   True      True   \n",
       "245     False      True   True  False   False   True   True   True      True   \n",
       "246     False      True   True  False   False   True   True   True      True   \n",
       "\n",
       "     diagnosis  \n",
       "0        False  \n",
       "1        False  \n",
       "2        False  \n",
       "3        False  \n",
       "4        False  \n",
       "..         ...  \n",
       "242       True  \n",
       "243       True  \n",
       "244       True  \n",
       "245       True  \n",
       "246       True  \n",
       "\n",
       "[247 rows x 10 columns]"
      ]
     },
     "execution_count": 22,
     "metadata": {},
     "output_type": "execute_result"
    }
   ],
   "source": [
    "df.isnull()"
   ]
  },
  {
   "cell_type": "markdown",
   "id": "13bbe025",
   "metadata": {},
   "source": [
    "\n",
    "temp"
   ]
  },
  {
   "cell_type": "code",
   "execution_count": 23,
   "id": "b93d92cb",
   "metadata": {},
   "outputs": [
    {
     "data": {
      "text/plain": [
       "study_id      0\n",
       "subtlety     93\n",
       "size         93\n",
       "age           0\n",
       "gender        0\n",
       "x            93\n",
       "y            93\n",
       "state        93\n",
       "position     93\n",
       "diagnosis    97\n",
       "dtype: int64"
      ]
     },
     "execution_count": 23,
     "metadata": {},
     "output_type": "execute_result"
    }
   ],
   "source": [
    "df.isnull().sum()"
   ]
  },
  {
   "cell_type": "code",
   "execution_count": 24,
   "id": "ee48dd25",
   "metadata": {},
   "outputs": [],
   "source": [
    "temp=df['subtlety'].value_counts().idxmax()\n",
    "df['subtlety'].replace(np.nan,temp,inplace=True)\n",
    "\n",
    "temp=df['size'].astype('float').mean()\n",
    "temp=int(temp)\n",
    "df['size'].replace(np.nan,temp,inplace=True)\n",
    "\n",
    "temp=df['x'].astype('float').mean()\n",
    "temp=int(temp)\n",
    "df['x'].replace(np.nan,temp,inplace=True)\n",
    "\n",
    "\n",
    "temp=df['y'].astype('float').mean()\n",
    "temp=int(temp)\n",
    "df['y'].replace(np.nan,temp,inplace=True)\n",
    "\n",
    "temp=df['state'].value_counts().idxmax()\n",
    "df['state'].replace(np.nan,temp,inplace=True)\n",
    "\n",
    "\n",
    "temp=df['position'].value_counts().idxmax()\n",
    "df['position'].replace(np.nan,temp,inplace=True)\n",
    "\n",
    "temp=df['diagnosis'].value_counts().idxmax()\n",
    "df['diagnosis'].replace(np.nan,temp,inplace=True)\n"
   ]
  },
  {
   "cell_type": "code",
   "execution_count": 25,
   "id": "1d25b62a",
   "metadata": {},
   "outputs": [
    {
     "data": {
      "text/plain": [
       "study_id     0\n",
       "subtlety     0\n",
       "size         0\n",
       "age          0\n",
       "gender       0\n",
       "x            0\n",
       "y            0\n",
       "state        0\n",
       "position     0\n",
       "diagnosis    0\n",
       "dtype: int64"
      ]
     },
     "execution_count": 25,
     "metadata": {},
     "output_type": "execute_result"
    }
   ],
   "source": [
    "df.isnull().sum()"
   ]
  },
  {
   "cell_type": "markdown",
   "id": "68374ef5",
   "metadata": {},
   "source": [
    "# QUESTION NO.1\n"
   ]
  },
  {
   "cell_type": "code",
   "execution_count": 26,
   "id": "05f2a08b",
   "metadata": {},
   "outputs": [
    {
     "data": {
      "text/plain": [
       "lung cancer                                       153\n",
       "lung cancer(adenocarcinoma)                        23\n",
       "tuberculoma                                        14\n",
       "granuloma                                           8\n",
       "lung cancer(bronchioloalveolar cell carcinoma)      7\n",
       "metastasis of colon cancer                          4\n",
       "inflammatory mass                                   4\n",
       "pulmonary tuberculosis                              3\n",
       "lung abscess                                        2\n",
       "Cryptococcosis                                      2\n",
       "lung cancer(squamous cell carcinoma)                2\n",
       "Inflammatory mass                                   2\n",
       "pulmonary hematoma                                  2\n",
       "susp. inflammatory mass                             2\n",
       "hamartoma                                           2\n",
       "sclerosing hemangioma                               2\n",
       "lung cancer(large cell carcinoma)                   1\n",
       "susp. hamartoma                                     1\n",
       "metastasis of uterine cancer                        1\n",
       "organizing pneumonia                                1\n",
       "metastasis of ovarian cancer                        1\n",
       "metastatic lung cancer                              1\n",
       "lung canceror metastasis                            1\n",
       "pneumonia                                           1\n",
       "calcified granuloma                                 1\n",
       "lung cancer(adenosquamous carcinoma)                1\n",
       "lung cancer(small cell carcinoma)                   1\n",
       "susp.tuberculoma                                    1\n",
       "organiging pneumonia                                1\n",
       "susp. sclerosing hemangioma                         1\n",
       "susp. lung metastasis                               1\n",
       "Name: diagnosis, dtype: int64"
      ]
     },
     "execution_count": 26,
     "metadata": {},
     "output_type": "execute_result"
    }
   ],
   "source": [
    "df['diagnosis'].value_counts()"
   ]
  },
  {
   "cell_type": "code",
   "execution_count": 27,
   "id": "ea5b1fe9",
   "metadata": {},
   "outputs": [
    {
     "data": {
      "text/plain": [
       "(array([29.,  1.,  0.,  0.,  0.,  0.,  0.,  0.,  0.,  1.]),\n",
       " array([  1. ,  16.2,  31.4,  46.6,  61.8,  77. ,  92.2, 107.4, 122.6,\n",
       "        137.8, 153. ]),\n",
       " <BarContainer object of 10 artists>)"
      ]
     },
     "execution_count": 27,
     "metadata": {},
     "output_type": "execute_result"
    },
    {
     "data": {
      "image/png": "[encoded data removed]",
      "text/plain": [
       "<Figure size 432x288 with 1 Axes>"
      ]
     },
     "metadata": {
      "needs_background": "light"
     },
     "output_type": "display_data"
    }
   ],
   "source": [
    "import matplotlib as plt\n",
    "from matplotlib import pyplot\n",
    "plt.pyplot.title('HISTOGRAM')\n",
    "plt.pyplot.xlabel('DIAGNOSIS')\n",
    "plt.pyplot.ylabel('NO. OF PATIENTS')\n",
    "plt.pyplot.hist(df['diagnosis'].value_counts(),color='violet',ec='black')"
   ]
  },
  {
   "cell_type": "markdown",
   "id": "cafd2492",
   "metadata": {},
   "source": [
    "# QUESTION NO.2 "
   ]
  },
  {
   "cell_type": "markdown",
   "id": "e409b79e",
   "metadata": {},
   "source": []
  },
  {
   "cell_type": "code",
   "execution_count": 29,
   "id": "23b847cf",
   "metadata": {},
   "outputs": [
    {
     "data": {
      "text/plain": [
       "diagnosis                                       gender\n",
       "Cryptococcosis                                  Female     2\n",
       "Inflammatory mass                               Female     2\n",
       "calcified granuloma                             Male       1\n",
       "granuloma                                       Male       6\n",
       "                                                Female     2\n",
       "hamartoma                                       Female     2\n",
       "inflammatory mass                               Female     2\n",
       "                                                Male       2\n",
       "lung abscess                                    Female     1\n",
       "                                                Male       1\n",
       "lung cancer                                     Female    78\n",
       "                                                Male      75\n",
       "lung cancer(adenocarcinoma)                     Female    15\n",
       "                                                Male       8\n",
       "lung cancer(adenosquamous carcinoma)            Male       1\n",
       "lung cancer(bronchioloalveolar cell carcinoma)  Female     4\n",
       "                                                Male       3\n",
       "lung cancer(large cell carcinoma)               Male       1\n",
       "lung cancer(small cell carcinoma)               Male       1\n",
       "lung cancer(squamous cell carcinoma)            Male       2\n",
       "lung canceror metastasis                        Female     1\n",
       "metastasis of colon cancer                      Female     3\n",
       "                                                Male       1\n",
       "metastasis of ovarian cancer                    Female     1\n",
       "metastasis of uterine cancer                    Female     1\n",
       "metastatic lung cancer                          Female     1\n",
       "organiging pneumonia                            Male       1\n",
       "organizing pneumonia                            Female     1\n",
       "pneumonia                                       Female     1\n",
       "pulmonary hematoma                              Female     1\n",
       "                                                Male       1\n",
       "pulmonary tuberculosis                          Male       3\n",
       "sclerosing hemangioma                           Female     2\n",
       "susp. hamartoma                                 Male       1\n",
       "susp. inflammatory mass                         Female     1\n",
       "                                                Male       1\n",
       "susp. lung metastasis                           Female     1\n",
       "susp. sclerosing hemangioma                     Female     1\n",
       "susp.tuberculoma                                Male       1\n",
       "tuberculoma                                     Male       9\n",
       "                                                Female     5\n",
       "Name: gender, dtype: int64"
      ]
     },
     "execution_count": 29,
     "metadata": {},
     "output_type": "execute_result"
    }
   ],
   "source": [
    "df.groupby(['diagnosis'])['gender'].value_counts()"
   ]
  },
  {
   "cell_type": "code",
   "execution_count": null,
   "id": "a8aa6770",
   "metadata": {},
   "outputs": [],
   "source": []
  },
  {
   "cell_type": "markdown",
   "id": "b8a66649",
   "metadata": {},
   "source": [
    "# chart against each disease"
   ]
  },
  {
   "cell_type": "code",
   "execution_count": 230,
   "id": "39eab022",
   "metadata": {},
   "outputs": [],
   "source": [
    "lst=['Cryptococcosis','Inflammatory mass','calcified granuloma','granuloma','hamartoma','inflammatory mass','lung abscess','lung cancer','lung cancer(adenocarcinoma)','lung cancer(adenosquamous carcinoma)','lung cancer(small cell carcinoma)','lung cancer(large cell carcinoma)','lung cancer(bronchioloalveolar cell carcinoma)','lung cancer(squamous cell carcinoma)','lung canceror metastasis','metastasis of colon cancer','metastasis of ovarian cancer','metastasis of uterine cancer','metastatic lung cancer','organiging pneumonia','pneumonia','pulmonary hematoma','pulmonary tuberculosis','pulmonary tuberculosis','sclerosing hemangioma','susp. hamartoma','susp. inflammatory mass','susp. inflammatory mass','susp. lung metastasis','susp. sclerosing hemangioma','susp.tuberculoma','tuberculoma']\n",
    "count=0\n",
    "temp=df[df['diagnosis']==lst[count]]['gender'].value_counts()\n"
   ]
  },
  {
   "cell_type": "markdown",
   "id": "40a7a549",
   "metadata": {},
   "source": []
  },
  {
   "cell_type": "code",
   "execution_count": 231,
   "id": "e2955e8c",
   "metadata": {},
   "outputs": [
    {
     "data": {
      "text/plain": [
       "Female    2\n",
       "Name: gender, dtype: int64"
      ]
     },
     "execution_count": 231,
     "metadata": {},
     "output_type": "execute_result"
    }
   ],
   "source": [
    "temp"
   ]
  },
  {
   "cell_type": "code",
   "execution_count": 232,
   "id": "c94740ef",
   "metadata": {},
   "outputs": [
    {
     "data": {
      "image/png": "[encoded data removed]",
      "text/plain": [
       "<Figure size 432x288 with 1 Axes>"
      ]
     },
     "metadata": {},
     "output_type": "display_data"
    }
   ],
   "source": [
    "plt.pyplot.title(lst[count])\n",
    "plt.pyplot.pie(temp,autopct='%1.1f%%',startangle=90,colors=['violet','purple'],labels=['female'])\n",
    "count=count+1\n",
    "if count==32:\n",
    "    count=0"
   ]
  },
  {
   "cell_type": "code",
   "execution_count": 233,
   "id": "034747a7",
   "metadata": {},
   "outputs": [],
   "source": [
    "temp=df[df['diagnosis']==lst[count]]['gender'].value_counts()"
   ]
  },
  {
   "cell_type": "code",
   "execution_count": 234,
   "id": "1f5c6829",
   "metadata": {},
   "outputs": [
    {
     "data": {
      "text/plain": [
       "Female    2\n",
       "Name: gender, dtype: int64"
      ]
     },
     "execution_count": 234,
     "metadata": {},
     "output_type": "execute_result"
    }
   ],
   "source": [
    "temp"
   ]
  },
  {
   "cell_type": "code",
   "execution_count": 235,
   "id": "0fe17c9d",
   "metadata": {},
   "outputs": [
    {
     "data": {
      "image/png": "[encoded data removed]",
      "text/plain": [
       "<Figure size 432x288 with 1 Axes>"
      ]
     },
     "metadata": {},
     "output_type": "display_data"
    }
   ],
   "source": [
    "plt.pyplot.title(lst[count])\n",
    "plt.pyplot.pie(temp,autopct='%1.1f%%',startangle=90,colors=['violet','purple'],labels=['female'])\n",
    "count=count+1\n",
    "if count==32:\n",
    "    count=0"
   ]
  },
  {
   "cell_type": "code",
   "execution_count": 224,
   "id": "7a53e268",
   "metadata": {},
   "outputs": [
    {
     "data": {
      "text/plain": [
       "Male    1\n",
       "Name: gender, dtype: int64"
      ]
     },
     "execution_count": 224,
     "metadata": {},
     "output_type": "execute_result"
    }
   ],
   "source": [
    "temp=df[df['diagnosis']==lst[count]]['gender'].value_counts()\n",
    "temp"
   ]
  },
  {
   "cell_type": "code",
   "execution_count": 236,
   "id": "eaa04d62",
   "metadata": {},
   "outputs": [
    {
     "data": {
      "image/png": "[encoded data removed]",
      "text/plain": [
       "<Figure size 432x288 with 1 Axes>"
      ]
     },
     "metadata": {},
     "output_type": "display_data"
    }
   ],
   "source": [
    "plt.pyplot.title(lst[count])\n",
    "plt.pyplot.pie(temp,autopct='%1.1f%%',startangle=90,colors=['violet','purple'],labels=['female'])\n",
    "count=count+1\n",
    "if count==32:\n",
    "    count=0"
   ]
  },
  {
   "cell_type": "code",
   "execution_count": 237,
   "id": "b2d4ef79",
   "metadata": {},
   "outputs": [
    {
     "data": {
      "text/plain": [
       "Male      6\n",
       "Female    2\n",
       "Name: gender, dtype: int64"
      ]
     },
     "execution_count": 237,
     "metadata": {},
     "output_type": "execute_result"
    }
   ],
   "source": [
    "temp=df[df['diagnosis']==lst[count]]['gender'].value_counts()\n",
    "temp"
   ]
  },
  {
   "cell_type": "code",
   "execution_count": 238,
   "id": "fb72ede0",
   "metadata": {},
   "outputs": [
    {
     "data": {
      "image/png": "[encoded data removed]",
      "text/plain": [
       "<Figure size 432x288 with 1 Axes>"
      ]
     },
     "metadata": {},
     "output_type": "display_data"
    }
   ],
   "source": [
    "plt.pyplot.title(lst[count])\n",
    "plt.pyplot.pie(temp,autopct='%1.1f%%',startangle=90,colors=['violet','purple'],labels=['male','female'])\n",
    "count=count+1\n",
    "if count==32:\n",
    "    count=0"
   ]
  },
  {
   "cell_type": "code",
   "execution_count": 239,
   "id": "08471080",
   "metadata": {},
   "outputs": [
    {
     "data": {
      "text/plain": [
       "Female    2\n",
       "Name: gender, dtype: int64"
      ]
     },
     "execution_count": 239,
     "metadata": {},
     "output_type": "execute_result"
    }
   ],
   "source": [
    "temp=df[df['diagnosis']==lst[count]]['gender'].value_counts()\n",
    "temp"
   ]
  },
  {
   "cell_type": "code",
   "execution_count": 240,
   "id": "cdb6161e",
   "metadata": {},
   "outputs": [
    {
     "data": {
      "image/png": "[encoded data removed]",
      "text/plain": [
       "<Figure size 432x288 with 1 Axes>"
      ]
     },
     "metadata": {},
     "output_type": "display_data"
    }
   ],
   "source": [
    "plt.pyplot.title(lst[count])\n",
    "plt.pyplot.pie(temp,autopct='%1.1f%%',startangle=90,colors=['violet','purple'],labels=['female'])\n",
    "count=count+1\n",
    "if count==32:\n",
    "    count=0"
   ]
  },
  {
   "cell_type": "code",
   "execution_count": 241,
   "id": "62ac6891",
   "metadata": {},
   "outputs": [
    {
     "data": {
      "text/plain": [
       "Female    2\n",
       "Male      2\n",
       "Name: gender, dtype: int64"
      ]
     },
     "execution_count": 241,
     "metadata": {},
     "output_type": "execute_result"
    }
   ],
   "source": [
    "temp=df[df['diagnosis']==lst[count]]['gender'].value_counts()\n",
    "temp"
   ]
  },
  {
   "cell_type": "code",
   "execution_count": 242,
   "id": "7da93d83",
   "metadata": {},
   "outputs": [
    {
     "data": {
      "image/png": "[encoded data removed]",
      "text/plain": [
       "<Figure size 432x288 with 1 Axes>"
      ]
     },
     "metadata": {},
     "output_type": "display_data"
    }
   ],
   "source": [
    "plt.pyplot.title(lst[count])\n",
    "plt.pyplot.pie(temp,autopct='%1.1f%%',startangle=90,colors=['violet','purple'],labels=['female','male'],explode=[0,0.1])\n",
    "count=count+1\n",
    "if count==32:\n",
    "    count=0"
   ]
  },
  {
   "cell_type": "code",
   "execution_count": 243,
   "id": "095061ce",
   "metadata": {},
   "outputs": [
    {
     "data": {
      "text/plain": [
       "Male      1\n",
       "Female    1\n",
       "Name: gender, dtype: int64"
      ]
     },
     "execution_count": 243,
     "metadata": {},
     "output_type": "execute_result"
    }
   ],
   "source": [
    "temp=df[df['diagnosis']==lst[count]]['gender'].value_counts()\n",
    "temp"
   ]
  },
  {
   "cell_type": "code",
   "execution_count": 244,
   "id": "d8c07b68",
   "metadata": {},
   "outputs": [
    {
     "data": {
      "image/png": "[encoded data removed]",
      "text/plain": [
       "<Figure size 432x288 with 1 Axes>"
      ]
     },
     "metadata": {},
     "output_type": "display_data"
    }
   ],
   "source": [
    "plt.pyplot.title(lst[count])\n",
    "plt.pyplot.pie(temp,autopct='%1.1f%%',startangle=90,colors=['violet','purple'],labels=['female','male'],explode=[0,0.1])\n",
    "count=count+1\n",
    "if count==32:\n",
    "    count=0"
   ]
  },
  {
   "cell_type": "code",
   "execution_count": 245,
   "id": "76a64dc4",
   "metadata": {},
   "outputs": [
    {
     "data": {
      "text/plain": [
       "Female    78\n",
       "Male      75\n",
       "Name: gender, dtype: int64"
      ]
     },
     "execution_count": 245,
     "metadata": {},
     "output_type": "execute_result"
    }
   ],
   "source": [
    "temp=df[df['diagnosis']==lst[count]]['gender'].value_counts()\n",
    "temp"
   ]
  },
  {
   "cell_type": "code",
   "execution_count": 246,
   "id": "74cdec6e",
   "metadata": {},
   "outputs": [
    {
     "data": {
      "image/png": "[encoded data removed]",
      "text/plain": [
       "<Figure size 432x288 with 1 Axes>"
      ]
     },
     "metadata": {},
     "output_type": "display_data"
    }
   ],
   "source": [
    "plt.pyplot.title(lst[count])\n",
    "plt.pyplot.pie(temp,autopct='%1.1f%%',startangle=90,colors=['violet','purple'],labels=['female','male'],explode=[0,0.1])\n",
    "count=count+1\n",
    "if count==32:\n",
    "    count=0"
   ]
  },
  {
   "cell_type": "code",
   "execution_count": 247,
   "id": "57137283",
   "metadata": {},
   "outputs": [
    {
     "data": {
      "text/plain": [
       "Female    15\n",
       "Male       8\n",
       "Name: gender, dtype: int64"
      ]
     },
     "execution_count": 247,
     "metadata": {},
     "output_type": "execute_result"
    }
   ],
   "source": [
    "temp=df[df['diagnosis']==lst[count]]['gender'].value_counts()\n",
    "temp"
   ]
  },
  {
   "cell_type": "code",
   "execution_count": 248,
   "id": "cc3b0718",
   "metadata": {},
   "outputs": [
    {
     "data": {
      "image/png": "[encoded data removed]",
      "text/plain": [
       "<Figure size 432x288 with 1 Axes>"
      ]
     },
     "metadata": {},
     "output_type": "display_data"
    }
   ],
   "source": [
    "plt.pyplot.title(lst[count])\n",
    "plt.pyplot.pie(temp,autopct='%1.1f%%',startangle=90,colors=['violet','purple'],labels=['female','male'],explode=[0,0.1])\n",
    "count=count+1\n",
    "if count==32:\n",
    "    count=0"
   ]
  },
  {
   "cell_type": "code",
   "execution_count": 249,
   "id": "f1cd5c48",
   "metadata": {},
   "outputs": [
    {
     "data": {
      "text/plain": [
       "Male    1\n",
       "Name: gender, dtype: int64"
      ]
     },
     "execution_count": 249,
     "metadata": {},
     "output_type": "execute_result"
    }
   ],
   "source": [
    "temp=df[df['diagnosis']==lst[count]]['gender'].value_counts()\n",
    "temp\n"
   ]
  },
  {
   "cell_type": "code",
   "execution_count": 250,
   "id": "ecf41081",
   "metadata": {},
   "outputs": [
    {
     "data": {
      "image/png": "[encoded data removed]",
      "text/plain": [
       "<Figure size 432x288 with 1 Axes>"
      ]
     },
     "metadata": {},
     "output_type": "display_data"
    }
   ],
   "source": [
    "plt.pyplot.title(lst[count])\n",
    "plt.pyplot.pie(temp,autopct='%1.1f%%',startangle=90,colors=['violet','purple'],labels=['male'],explode=[0.1])\n",
    "count=count+1\n",
    "if count==32:\n",
    "    count=0"
   ]
  },
  {
   "cell_type": "code",
   "execution_count": 251,
   "id": "e1254c4a",
   "metadata": {},
   "outputs": [
    {
     "data": {
      "text/plain": [
       "Male    1\n",
       "Name: gender, dtype: int64"
      ]
     },
     "execution_count": 251,
     "metadata": {},
     "output_type": "execute_result"
    }
   ],
   "source": [
    "temp=df[df['diagnosis']==lst[count]]['gender'].value_counts()\n",
    "temp"
   ]
  },
  {
   "cell_type": "code",
   "execution_count": 252,
   "id": "9a520615",
   "metadata": {},
   "outputs": [
    {
     "data": {
      "image/png": "[encoded data removed]",
      "text/plain": [
       "<Figure size 432x288 with 1 Axes>"
      ]
     },
     "metadata": {},
     "output_type": "display_data"
    }
   ],
   "source": [
    "plt.pyplot.title(lst[count])\n",
    "plt.pyplot.pie(temp,autopct='%1.1f%%',startangle=90,colors=['violet','purple'],labels=['male'],explode=[0.1])\n",
    "count=count+1\n",
    "if count==32:\n",
    "    count=0"
   ]
  },
  {
   "cell_type": "code",
   "execution_count": 253,
   "id": "207564c2",
   "metadata": {},
   "outputs": [
    {
     "data": {
      "text/plain": [
       "Male    1\n",
       "Name: gender, dtype: int64"
      ]
     },
     "execution_count": 253,
     "metadata": {},
     "output_type": "execute_result"
    }
   ],
   "source": [
    "temp=df[df['diagnosis']==lst[count]]['gender'].value_counts()\n",
    "temp"
   ]
  },
  {
   "cell_type": "code",
   "execution_count": 254,
   "id": "c5531753",
   "metadata": {},
   "outputs": [
    {
     "data": {
      "image/png": "[encoded data removed]",
      "text/plain": [
       "<Figure size 432x288 with 1 Axes>"
      ]
     },
     "metadata": {},
     "output_type": "display_data"
    }
   ],
   "source": [
    "plt.pyplot.title(lst[count])\n",
    "plt.pyplot.pie(temp,autopct='%1.1f%%',startangle=90,colors=['violet','purple'],labels=['male'],explode=[0.1])\n",
    "count=count+1\n",
    "if count==32:\n",
    "    count=0"
   ]
  },
  {
   "cell_type": "code",
   "execution_count": 255,
   "id": "ac45ce17",
   "metadata": {},
   "outputs": [
    {
     "data": {
      "text/plain": [
       "Female    4\n",
       "Male      3\n",
       "Name: gender, dtype: int64"
      ]
     },
     "execution_count": 255,
     "metadata": {},
     "output_type": "execute_result"
    }
   ],
   "source": [
    "temp=df[df['diagnosis']==lst[count]]['gender'].value_counts()\n",
    "temp"
   ]
  },
  {
   "cell_type": "code",
   "execution_count": 256,
   "id": "e364acbe",
   "metadata": {},
   "outputs": [
    {
     "data": {
      "image/png": "[encoded data removed]",
      "text/plain": [
       "<Figure size 432x288 with 1 Axes>"
      ]
     },
     "metadata": {},
     "output_type": "display_data"
    }
   ],
   "source": [
    "plt.pyplot.title(lst[count])\n",
    "plt.pyplot.pie(temp,autopct='%1.1f%%',startangle=90,colors=['violet','purple'],labels=['female','male'],explode=[0,0.1])\n",
    "count=count+1\n",
    "if count==32:\n",
    "    count=0"
   ]
  },
  {
   "cell_type": "code",
   "execution_count": 257,
   "id": "5d4e9c18",
   "metadata": {},
   "outputs": [
    {
     "data": {
      "text/plain": [
       "Male    2\n",
       "Name: gender, dtype: int64"
      ]
     },
     "execution_count": 257,
     "metadata": {},
     "output_type": "execute_result"
    }
   ],
   "source": [
    "temp=df[df['diagnosis']==lst[count]]['gender'].value_counts()\n",
    "temp"
   ]
  },
  {
   "cell_type": "code",
   "execution_count": 258,
   "id": "4efe9423",
   "metadata": {},
   "outputs": [
    {
     "data": {
      "image/png": "[encoded data removed]",
      "text/plain": [
       "<Figure size 432x288 with 1 Axes>"
      ]
     },
     "metadata": {},
     "output_type": "display_data"
    }
   ],
   "source": [
    "plt.pyplot.title(lst[count])\n",
    "plt.pyplot.pie(temp,autopct='%1.1f%%',startangle=90,colors=['violet','purple'],labels=['male'],explode=[0.1])\n",
    "count=count+1\n",
    "if count==32:\n",
    "    count=0"
   ]
  },
  {
   "cell_type": "code",
   "execution_count": 259,
   "id": "d144286b",
   "metadata": {},
   "outputs": [
    {
     "data": {
      "text/plain": [
       "Female    1\n",
       "Name: gender, dtype: int64"
      ]
     },
     "execution_count": 259,
     "metadata": {},
     "output_type": "execute_result"
    }
   ],
   "source": [
    "temp=df[df['diagnosis']==lst[count]]['gender'].value_counts()\n",
    "temp"
   ]
  },
  {
   "cell_type": "code",
   "execution_count": 260,
   "id": "00f028c2",
   "metadata": {},
   "outputs": [
    {
     "data": {
      "image/png": "[encoded data removed]",
      "text/plain": [
       "<Figure size 432x288 with 1 Axes>"
      ]
     },
     "metadata": {},
     "output_type": "display_data"
    }
   ],
   "source": [
    "plt.pyplot.title(lst[count])\n",
    "plt.pyplot.pie(temp,autopct='%1.1f%%',startangle=90,colors=['violet','purple'],labels=['male'],explode=[0.1])\n",
    "count=count+1\n",
    "if count==32:\n",
    "    count=0"
   ]
  },
  {
   "cell_type": "code",
   "execution_count": 261,
   "id": "6ab76af6",
   "metadata": {},
   "outputs": [
    {
     "data": {
      "text/plain": [
       "Female    3\n",
       "Male      1\n",
       "Name: gender, dtype: int64"
      ]
     },
     "execution_count": 261,
     "metadata": {},
     "output_type": "execute_result"
    }
   ],
   "source": [
    "temp=df[df['diagnosis']==lst[count]]['gender'].value_counts()\n",
    "temp"
   ]
  },
  {
   "cell_type": "code",
   "execution_count": 262,
   "id": "25002576",
   "metadata": {},
   "outputs": [
    {
     "data": {
      "image/png": "[encoded data removed]",
      "text/plain": [
       "<Figure size 432x288 with 1 Axes>"
      ]
     },
     "metadata": {},
     "output_type": "display_data"
    }
   ],
   "source": [
    "plt.pyplot.title(lst[count])\n",
    "plt.pyplot.pie(temp,autopct='%1.1f%%',startangle=90,colors=['violet','purple'],labels=['female','male'],explode=[0,0.1])\n",
    "count=count+1\n",
    "if count==32:\n",
    "    count=0"
   ]
  },
  {
   "cell_type": "code",
   "execution_count": 263,
   "id": "ba2b550b",
   "metadata": {},
   "outputs": [
    {
     "data": {
      "text/plain": [
       "Female    1\n",
       "Name: gender, dtype: int64"
      ]
     },
     "execution_count": 263,
     "metadata": {},
     "output_type": "execute_result"
    }
   ],
   "source": [
    "temp=df[df['diagnosis']==lst[count]]['gender'].value_counts()\n",
    "temp"
   ]
  },
  {
   "cell_type": "code",
   "execution_count": 264,
   "id": "8d4776f1",
   "metadata": {},
   "outputs": [
    {
     "data": {
      "image/png": "[encoded data removed]",
      "text/plain": [
       "<Figure size 432x288 with 1 Axes>"
      ]
     },
     "metadata": {},
     "output_type": "display_data"
    }
   ],
   "source": [
    "plt.pyplot.title(lst[count])\n",
    "plt.pyplot.pie(temp,autopct='%1.1f%%',startangle=90,colors=['violet','purple'],labels=['female'],explode=[0.1])\n",
    "count=count+1\n",
    "if count==32:\n",
    "    count=0"
   ]
  },
  {
   "cell_type": "code",
   "execution_count": 265,
   "id": "f403192c",
   "metadata": {},
   "outputs": [
    {
     "data": {
      "text/plain": [
       "Female    1\n",
       "Name: gender, dtype: int64"
      ]
     },
     "execution_count": 265,
     "metadata": {},
     "output_type": "execute_result"
    }
   ],
   "source": [
    "temp=df[df['diagnosis']==lst[count]]['gender'].value_counts()\n",
    "temp"
   ]
  },
  {
   "cell_type": "code",
   "execution_count": 266,
   "id": "c58317e7",
   "metadata": {},
   "outputs": [
    {
     "data": {
      "image/png": "[encoded data removed]",
      "text/plain": [
       "<Figure size 432x288 with 1 Axes>"
      ]
     },
     "metadata": {},
     "output_type": "display_data"
    }
   ],
   "source": [
    "plt.pyplot.title(lst[count])\n",
    "plt.pyplot.pie(temp,autopct='%1.1f%%',startangle=90,colors=['violet','purple'],labels=['female'],explode=[0.1])\n",
    "count=count+1\n",
    "if count==32:\n",
    "    count=0"
   ]
  },
  {
   "cell_type": "code",
   "execution_count": 267,
   "id": "397a2960",
   "metadata": {},
   "outputs": [
    {
     "data": {
      "text/plain": [
       "Female    1\n",
       "Name: gender, dtype: int64"
      ]
     },
     "execution_count": 267,
     "metadata": {},
     "output_type": "execute_result"
    }
   ],
   "source": [
    "temp=df[df['diagnosis']==lst[count]]['gender'].value_counts()\n",
    "temp"
   ]
  },
  {
   "cell_type": "code",
   "execution_count": 268,
   "id": "86df5600",
   "metadata": {},
   "outputs": [
    {
     "data": {
      "image/png": "[encoded data removed]",
      "text/plain": [
       "<Figure size 432x288 with 1 Axes>"
      ]
     },
     "metadata": {},
     "output_type": "display_data"
    }
   ],
   "source": [
    "plt.pyplot.title(lst[count])\n",
    "plt.pyplot.pie(temp,autopct='%1.1f%%',startangle=90,colors=['violet','purple'],labels=['female'],explode=[0.1])\n",
    "count=count+1\n",
    "if count==32:\n",
    "    count=0"
   ]
  },
  {
   "cell_type": "code",
   "execution_count": 269,
   "id": "950c9bcf",
   "metadata": {},
   "outputs": [
    {
     "data": {
      "text/plain": [
       "Male    1\n",
       "Name: gender, dtype: int64"
      ]
     },
     "execution_count": 269,
     "metadata": {},
     "output_type": "execute_result"
    }
   ],
   "source": [
    "temp=df[df['diagnosis']==lst[count]]['gender'].value_counts()\n",
    "temp"
   ]
  },
  {
   "cell_type": "code",
   "execution_count": 270,
   "id": "cebc8b74",
   "metadata": {},
   "outputs": [
    {
     "data": {
      "image/png": "[encoded data removed]",
      "text/plain": [
       "<Figure size 432x288 with 1 Axes>"
      ]
     },
     "metadata": {},
     "output_type": "display_data"
    }
   ],
   "source": [
    "plt.pyplot.title(lst[count])\n",
    "plt.pyplot.pie(temp,autopct='%1.1f%%',startangle=90,colors=['violet','purple'],labels=['male'],explode=[0.1])\n",
    "count=count+1\n",
    "if count==32:\n",
    "    count=0"
   ]
  },
  {
   "cell_type": "code",
   "execution_count": 271,
   "id": "4127efc0",
   "metadata": {},
   "outputs": [
    {
     "data": {
      "text/plain": [
       "Female    1\n",
       "Name: gender, dtype: int64"
      ]
     },
     "execution_count": 271,
     "metadata": {},
     "output_type": "execute_result"
    }
   ],
   "source": [
    "temp=df[df['diagnosis']==lst[count]]['gender'].value_counts()\n",
    "temp"
   ]
  },
  {
   "cell_type": "code",
   "execution_count": 272,
   "id": "95f712b3",
   "metadata": {},
   "outputs": [
    {
     "data": {
      "image/png": "[encoded data removed]",
      "text/plain": [
       "<Figure size 432x288 with 1 Axes>"
      ]
     },
     "metadata": {},
     "output_type": "display_data"
    }
   ],
   "source": [
    "plt.pyplot.title(lst[count])\n",
    "plt.pyplot.pie(temp,autopct='%1.1f%%',startangle=90,colors=['violet','purple'],labels=['female'],explode=[0.1])\n",
    "count=count+1\n",
    "if count==32:\n",
    "    count=0"
   ]
  },
  {
   "cell_type": "code",
   "execution_count": 273,
   "id": "8a514f63",
   "metadata": {},
   "outputs": [
    {
     "data": {
      "text/plain": [
       "Female    1\n",
       "Male      1\n",
       "Name: gender, dtype: int64"
      ]
     },
     "execution_count": 273,
     "metadata": {},
     "output_type": "execute_result"
    }
   ],
   "source": [
    "temp=df[df['diagnosis']==lst[count]]['gender'].value_counts()\n",
    "temp\n"
   ]
  },
  {
   "cell_type": "code",
   "execution_count": 274,
   "id": "48d653c6",
   "metadata": {},
   "outputs": [
    {
     "data": {
      "image/png": "[encoded data removed]",
      "text/plain": [
       "<Figure size 432x288 with 1 Axes>"
      ]
     },
     "metadata": {},
     "output_type": "display_data"
    }
   ],
   "source": [
    "plt.pyplot.title(lst[count])\n",
    "plt.pyplot.pie(temp,autopct='%1.1f%%',startangle=90,colors=['violet','purple'],labels=['female','male'],explode=[0,0.1])\n",
    "count=count+1\n",
    "if count==32:\n",
    "    count=0"
   ]
  },
  {
   "cell_type": "code",
   "execution_count": 275,
   "id": "de101cfa",
   "metadata": {},
   "outputs": [
    {
     "data": {
      "text/plain": [
       "Male    3\n",
       "Name: gender, dtype: int64"
      ]
     },
     "execution_count": 275,
     "metadata": {},
     "output_type": "execute_result"
    }
   ],
   "source": [
    "temp=df[df['diagnosis']==lst[count]]['gender'].value_counts()\n",
    "temp"
   ]
  },
  {
   "cell_type": "code",
   "execution_count": 276,
   "id": "709f2784",
   "metadata": {},
   "outputs": [
    {
     "data": {
      "image/png": "[encoded data removed]",
      "text/plain": [
       "<Figure size 432x288 with 1 Axes>"
      ]
     },
     "metadata": {},
     "output_type": "display_data"
    }
   ],
   "source": [
    "plt.pyplot.title(lst[count])\n",
    "plt.pyplot.pie(temp,autopct='%1.1f%%',startangle=90,colors=['violet','purple'],labels=['male'],explode=[0.1])\n",
    "count=count+1\n",
    "if count==32:\n",
    "    count=0"
   ]
  },
  {
   "cell_type": "code",
   "execution_count": 277,
   "id": "4aa5b900",
   "metadata": {},
   "outputs": [
    {
     "data": {
      "text/plain": [
       "Male    3\n",
       "Name: gender, dtype: int64"
      ]
     },
     "execution_count": 277,
     "metadata": {},
     "output_type": "execute_result"
    }
   ],
   "source": [
    "temp=df[df['diagnosis']==lst[count]]['gender'].value_counts()\n",
    "temp"
   ]
  },
  {
   "cell_type": "code",
   "execution_count": 278,
   "id": "46704930",
   "metadata": {},
   "outputs": [
    {
     "data": {
      "image/png": "[encoded data removed]",
      "text/plain": [
       "<Figure size 432x288 with 1 Axes>"
      ]
     },
     "metadata": {},
     "output_type": "display_data"
    }
   ],
   "source": [
    "plt.pyplot.title(lst[count])\n",
    "plt.pyplot.pie(temp,autopct='%1.1f%%',startangle=90,colors=['violet','purple'],labels=['male'],explode=[0.1])\n",
    "count=count+1\n",
    "if count==32:\n",
    "    count=0"
   ]
  },
  {
   "cell_type": "code",
   "execution_count": 279,
   "id": "6a7ca20a",
   "metadata": {},
   "outputs": [
    {
     "data": {
      "text/plain": [
       "Female    2\n",
       "Name: gender, dtype: int64"
      ]
     },
     "execution_count": 279,
     "metadata": {},
     "output_type": "execute_result"
    }
   ],
   "source": [
    "temp=df[df['diagnosis']==lst[count]]['gender'].value_counts()\n",
    "temp"
   ]
  },
  {
   "cell_type": "code",
   "execution_count": 280,
   "id": "1d6c8953",
   "metadata": {},
   "outputs": [
    {
     "data": {
      "image/png": "[encoded data removed]",
      "text/plain": [
       "<Figure size 432x288 with 1 Axes>"
      ]
     },
     "metadata": {},
     "output_type": "display_data"
    }
   ],
   "source": [
    "plt.pyplot.title(lst[count])\n",
    "plt.pyplot.pie(temp,autopct='%1.1f%%',startangle=90,colors=['violet','purple'],labels=['female'],explode=[0.1])\n",
    "count=count+1\n",
    "if count==32:\n",
    "    count=0"
   ]
  },
  {
   "cell_type": "code",
   "execution_count": 281,
   "id": "29d7db35",
   "metadata": {},
   "outputs": [
    {
     "data": {
      "text/plain": [
       "Male    1\n",
       "Name: gender, dtype: int64"
      ]
     },
     "execution_count": 281,
     "metadata": {},
     "output_type": "execute_result"
    }
   ],
   "source": [
    "temp=df[df['diagnosis']==lst[count]]['gender'].value_counts()\n",
    "temp"
   ]
  },
  {
   "cell_type": "code",
   "execution_count": 282,
   "id": "518a59f9",
   "metadata": {},
   "outputs": [
    {
     "data": {
      "image/png": "[encoded data removed]",
      "text/plain": [
       "<Figure size 432x288 with 1 Axes>"
      ]
     },
     "metadata": {},
     "output_type": "display_data"
    }
   ],
   "source": [
    "plt.pyplot.title(lst[count])\n",
    "plt.pyplot.pie(temp,autopct='%1.1f%%',startangle=90,colors=['violet','purple'],labels=['male'],explode=[0.1])\n",
    "count=count+1\n",
    "if count==32:\n",
    "    count=0"
   ]
  },
  {
   "cell_type": "code",
   "execution_count": 283,
   "id": "69588f7f",
   "metadata": {},
   "outputs": [
    {
     "data": {
      "text/plain": [
       "Male      1\n",
       "Female    1\n",
       "Name: gender, dtype: int64"
      ]
     },
     "execution_count": 283,
     "metadata": {},
     "output_type": "execute_result"
    }
   ],
   "source": [
    "temp=df[df['diagnosis']==lst[count]]['gender'].value_counts()\n",
    "temp"
   ]
  },
  {
   "cell_type": "code",
   "execution_count": 284,
   "id": "440b7278",
   "metadata": {},
   "outputs": [
    {
     "data": {
      "image/png": "[encoded data removed]",
      "text/plain": [
       "<Figure size 432x288 with 1 Axes>"
      ]
     },
     "metadata": {},
     "output_type": "display_data"
    }
   ],
   "source": [
    "plt.pyplot.title(lst[count])\n",
    "plt.pyplot.pie(temp,autopct='%1.1f%%',startangle=90,colors=['violet','purple'],labels=['male','female'],explode=[0,0.1])\n",
    "count=count+1\n",
    "if count==32:\n",
    "    count=0"
   ]
  },
  {
   "cell_type": "code",
   "execution_count": 285,
   "id": "98da1487",
   "metadata": {},
   "outputs": [
    {
     "data": {
      "text/plain": [
       "Male      1\n",
       "Female    1\n",
       "Name: gender, dtype: int64"
      ]
     },
     "execution_count": 285,
     "metadata": {},
     "output_type": "execute_result"
    }
   ],
   "source": [
    "temp=df[df['diagnosis']==lst[count]]['gender'].value_counts()\n",
    "temp\n"
   ]
  },
  {
   "cell_type": "code",
   "execution_count": 286,
   "id": "cb409a27",
   "metadata": {},
   "outputs": [
    {
     "data": {
      "image/png": "[encoded data removed]",
      "text/plain": [
       "<Figure size 432x288 with 1 Axes>"
      ]
     },
     "metadata": {},
     "output_type": "display_data"
    }
   ],
   "source": [
    "plt.pyplot.title(lst[count])\n",
    "plt.pyplot.pie(temp,autopct='%1.1f%%',startangle=90,colors=['violet','purple'],labels=['male','female'],explode=[0,0.1])\n",
    "count=count+1\n",
    "if count==32:\n",
    "    count=0"
   ]
  },
  {
   "cell_type": "code",
   "execution_count": 287,
   "id": "8ab8e46a",
   "metadata": {},
   "outputs": [
    {
     "data": {
      "text/plain": [
       "Female    1\n",
       "Name: gender, dtype: int64"
      ]
     },
     "execution_count": 287,
     "metadata": {},
     "output_type": "execute_result"
    }
   ],
   "source": [
    "temp=df[df['diagnosis']==lst[count]]['gender'].value_counts()\n",
    "temp\n"
   ]
  },
  {
   "cell_type": "code",
   "execution_count": 288,
   "id": "ac32c5fe",
   "metadata": {},
   "outputs": [
    {
     "data": {
      "image/png": "[encoded data removed]",
      "text/plain": [
       "<Figure size 432x288 with 1 Axes>"
      ]
     },
     "metadata": {},
     "output_type": "display_data"
    }
   ],
   "source": [
    "plt.pyplot.title(lst[count])\n",
    "plt.pyplot.pie(temp,autopct='%1.1f%%',startangle=90,colors=['violet','purple'],labels=['female'],explode=[0.1])\n",
    "count=count+1\n",
    "if count==32:\n",
    "    count=0"
   ]
  },
  {
   "cell_type": "code",
   "execution_count": 289,
   "id": "1de642e5",
   "metadata": {},
   "outputs": [
    {
     "data": {
      "text/plain": [
       "Female    1\n",
       "Name: gender, dtype: int64"
      ]
     },
     "execution_count": 289,
     "metadata": {},
     "output_type": "execute_result"
    }
   ],
   "source": [
    "temp=df[df['diagnosis']==lst[count]]['gender'].value_counts()\n",
    "temp\n"
   ]
  },
  {
   "cell_type": "code",
   "execution_count": 290,
   "id": "98b10bf3",
   "metadata": {},
   "outputs": [
    {
     "data": {
      "image/png": "[encoded data removed]",
      "text/plain": [
       "<Figure size 432x288 with 1 Axes>"
      ]
     },
     "metadata": {},
     "output_type": "display_data"
    }
   ],
   "source": [
    "plt.pyplot.title(lst[count])\n",
    "plt.pyplot.pie(temp,autopct='%1.1f%%',startangle=90,colors=['violet','purple'],labels=['female'],explode=[0.1])\n",
    "count=count+1\n",
    "if count==32:\n",
    "    count=0"
   ]
  },
  {
   "cell_type": "code",
   "execution_count": 291,
   "id": "ba45ef7d",
   "metadata": {},
   "outputs": [
    {
     "data": {
      "text/plain": [
       "Male    1\n",
       "Name: gender, dtype: int64"
      ]
     },
     "execution_count": 291,
     "metadata": {},
     "output_type": "execute_result"
    }
   ],
   "source": [
    "temp=df[df['diagnosis']==lst[count]]['gender'].value_counts()\n",
    "temp\n"
   ]
  },
  {
   "cell_type": "code",
   "execution_count": 292,
   "id": "96ef163a",
   "metadata": {},
   "outputs": [
    {
     "data": {
      "image/png": "[encoded data removed]",
      "text/plain": [
       "<Figure size 432x288 with 1 Axes>"
      ]
     },
     "metadata": {},
     "output_type": "display_data"
    }
   ],
   "source": [
    "plt.pyplot.title(lst[count])\n",
    "plt.pyplot.pie(temp,autopct='%1.1f%%',startangle=90,colors=['violet','purple'],labels=['emale'],explode=[0.1])\n",
    "count=count+1\n",
    "if count==32:\n",
    "    count=0"
   ]
  },
  {
   "cell_type": "code",
   "execution_count": 293,
   "id": "58f24e60",
   "metadata": {},
   "outputs": [
    {
     "data": {
      "text/plain": [
       "Male      9\n",
       "Female    5\n",
       "Name: gender, dtype: int64"
      ]
     },
     "execution_count": 293,
     "metadata": {},
     "output_type": "execute_result"
    }
   ],
   "source": [
    "temp=df[df['diagnosis']==lst[count]]['gender'].value_counts()\n",
    "temp\n"
   ]
  },
  {
   "cell_type": "code",
   "execution_count": 295,
   "id": "7f99cde2",
   "metadata": {},
   "outputs": [
    {
     "data": {
      "image/png": "[encoded data removed]",
      "text/plain": [
       "<Figure size 432x288 with 1 Axes>"
      ]
     },
     "metadata": {},
     "output_type": "display_data"
    }
   ],
   "source": [
    "plt.pyplot.title(lst[count])\n",
    "plt.pyplot.pie(temp,autopct='%1.1f%%',startangle=90,colors=['violet','purple'],labels=['male','female'],explode=[0,0.1])\n",
    "count=count+1\n",
    "if count==32:\n",
    "    count=0"
   ]
  },
  {
   "cell_type": "markdown",
   "id": "9b62366a",
   "metadata": {},
   "source": [
    "# QUESTION NO.3\n"
   ]
  },
  {
   "cell_type": "markdown",
   "id": "2638e2fe",
   "metadata": {},
   "source": [
    "# with single pie_chart"
   ]
  },
  {
   "cell_type": "code",
   "execution_count": 30,
   "id": "d35d417d",
   "metadata": {},
   "outputs": [
    {
     "data": {
      "text/plain": [
       "diagnosis                                       state    \n",
       "Cryptococcosis                                  benign         2\n",
       "Inflammatory mass                               benign         2\n",
       "calcified granuloma                             benign         1\n",
       "granuloma                                       benign         8\n",
       "hamartoma                                       benign         2\n",
       "inflammatory mass                               benign         4\n",
       "lung abscess                                    benign         2\n",
       "lung cancer                                     malignant    149\n",
       "                                                benign         4\n",
       "lung cancer(adenocarcinoma)                     malignant     23\n",
       "lung cancer(adenosquamous carcinoma)            malignant      1\n",
       "lung cancer(bronchioloalveolar cell carcinoma)  malignant      7\n",
       "lung cancer(large cell carcinoma)               malignant      1\n",
       "lung cancer(small cell carcinoma)               malignant      1\n",
       "lung cancer(squamous cell carcinoma)            malignant      2\n",
       "lung canceror metastasis                        malignant      1\n",
       "metastasis of colon cancer                      malignant      4\n",
       "metastasis of ovarian cancer                    malignant      1\n",
       "metastasis of uterine cancer                    malignant      1\n",
       "metastatic lung cancer                          malignant      1\n",
       "organiging pneumonia                            benign         1\n",
       "organizing pneumonia                            benign         1\n",
       "pneumonia                                       benign         1\n",
       "pulmonary hematoma                              benign         2\n",
       "pulmonary tuberculosis                          benign         3\n",
       "sclerosing hemangioma                           benign         2\n",
       "susp. hamartoma                                 benign         1\n",
       "susp. inflammatory mass                         benign         2\n",
       "susp. lung metastasis                           malignant      1\n",
       "susp. sclerosing hemangioma                     benign         1\n",
       "susp.tuberculoma                                benign         1\n",
       "tuberculoma                                     benign        14\n",
       "Name: state, dtype: int64"
      ]
     },
     "execution_count": 30,
     "metadata": {},
     "output_type": "execute_result"
    }
   ],
   "source": [
    "df.groupby(['diagnosis'])['state'].value_counts()"
   ]
  },
  {
   "cell_type": "code",
   "execution_count": null,
   "id": "2936db2e",
   "metadata": {},
   "outputs": [],
   "source": []
  },
  {
   "cell_type": "markdown",
   "id": "c5e51567",
   "metadata": {},
   "source": [
    "# with individual pie_chart"
   ]
  },
  {
   "cell_type": "code",
   "execution_count": 304,
   "id": "95c8383e",
   "metadata": {},
   "outputs": [],
   "source": [
    "lst=['Cryptococcosis','Inflammatory mass','calcified granuloma','granuloma','hamartoma','inflammatory mass','lung abscess','lung cancer','lung cancer(adenocarcinoma)','lung cancer(adenosquamous carcinoma)','lung cancer(small cell carcinoma)','lung cancer(large cell carcinoma)','lung cancer(bronchioloalveolar cell carcinoma)','lung cancer(squamous cell carcinoma)','lung canceror metastasis','metastasis of colon cancer','metastasis of ovarian cancer','metastasis of uterine cancer','metastatic lung cancer','organiging pneumonia','pneumonia','pulmonary hematoma','pulmonary tuberculosis','pulmonary tuberculosis','sclerosing hemangioma','susp. hamartoma','susp. inflammatory mass','susp. lung metastasis','susp. sclerosing hemangioma','susp.tuberculoma','tuberculoma']\n",
    "count=0\n",
    "temp=df[df['diagnosis']==lst[count]]['state'].value_counts()\n"
   ]
  },
  {
   "cell_type": "code",
   "execution_count": 305,
   "id": "21feaed8",
   "metadata": {},
   "outputs": [
    {
     "data": {
      "text/plain": [
       "benign    2\n",
       "Name: state, dtype: int64"
      ]
     },
     "execution_count": 305,
     "metadata": {},
     "output_type": "execute_result"
    }
   ],
   "source": [
    "temp"
   ]
  },
  {
   "cell_type": "code",
   "execution_count": 306,
   "id": "d893bffc",
   "metadata": {},
   "outputs": [
    {
     "data": {
      "image/png": "[encoded data removed]",
      "text/plain": [
       "<Figure size 432x288 with 1 Axes>"
      ]
     },
     "metadata": {},
     "output_type": "display_data"
    }
   ],
   "source": [
    "plt.pyplot.title(lst[count])\n",
    "plt.pyplot.pie(temp,autopct='%1.1f%%',startangle=90,colors=['violet','purple'],labels=['benign'])\n",
    "count=count+1\n",
    "if count==32:\n",
    "    count=0"
   ]
  },
  {
   "cell_type": "code",
   "execution_count": 307,
   "id": "f604e5c3",
   "metadata": {},
   "outputs": [
    {
     "data": {
      "text/plain": [
       "benign    2\n",
       "Name: state, dtype: int64"
      ]
     },
     "execution_count": 307,
     "metadata": {},
     "output_type": "execute_result"
    }
   ],
   "source": [
    "temp=df[df['diagnosis']==lst[count]]['state'].value_counts()\n",
    "temp"
   ]
  },
  {
   "cell_type": "code",
   "execution_count": 308,
   "id": "821eb964",
   "metadata": {},
   "outputs": [
    {
     "data": {
      "image/png": "[encoded data removed]",
      "text/plain": [
       "<Figure size 432x288 with 1 Axes>"
      ]
     },
     "metadata": {},
     "output_type": "display_data"
    }
   ],
   "source": [
    "plt.pyplot.title(lst[count])\n",
    "plt.pyplot.pie(temp,autopct='%1.1f%%',startangle=90,colors=['violet','purple'],labels=['benign'])\n",
    "count=count+1\n",
    "if count==32:\n",
    "    count=0"
   ]
  },
  {
   "cell_type": "code",
   "execution_count": 309,
   "id": "c9114e97",
   "metadata": {},
   "outputs": [
    {
     "data": {
      "text/plain": [
       "benign    1\n",
       "Name: state, dtype: int64"
      ]
     },
     "execution_count": 309,
     "metadata": {},
     "output_type": "execute_result"
    }
   ],
   "source": [
    "temp=df[df['diagnosis']==lst[count]]['state'].value_counts()\n",
    "temp"
   ]
  },
  {
   "cell_type": "code",
   "execution_count": 310,
   "id": "922b8a9b",
   "metadata": {},
   "outputs": [
    {
     "data": {
      "image/png": "[encoded data removed]",
      "text/plain": [
       "<Figure size 432x288 with 1 Axes>"
      ]
     },
     "metadata": {},
     "output_type": "display_data"
    }
   ],
   "source": [
    "plt.pyplot.title(lst[count])\n",
    "plt.pyplot.pie(temp,autopct='%1.1f%%',startangle=90,colors=['violet','purple'],labels=['benign'])\n",
    "count=count+1\n",
    "if count==32:\n",
    "    count=0"
   ]
  },
  {
   "cell_type": "code",
   "execution_count": 311,
   "id": "75fb7754",
   "metadata": {},
   "outputs": [
    {
     "data": {
      "text/plain": [
       "benign    8\n",
       "Name: state, dtype: int64"
      ]
     },
     "execution_count": 311,
     "metadata": {},
     "output_type": "execute_result"
    }
   ],
   "source": [
    "temp=df[df['diagnosis']==lst[count]]['state'].value_counts()\n",
    "temp"
   ]
  },
  {
   "cell_type": "code",
   "execution_count": 312,
   "id": "bf4a49c7",
   "metadata": {},
   "outputs": [
    {
     "data": {
      "image/png": "[encoded data removed]",
      "text/plain": [
       "<Figure size 432x288 with 1 Axes>"
      ]
     },
     "metadata": {},
     "output_type": "display_data"
    }
   ],
   "source": [
    "plt.pyplot.title(lst[count])\n",
    "plt.pyplot.pie(temp,autopct='%1.1f%%',startangle=90,colors=['violet','purple'],labels=['benign'])\n",
    "count=count+1\n",
    "if count==32:\n",
    "    count=0"
   ]
  },
  {
   "cell_type": "code",
   "execution_count": 313,
   "id": "5f8745d6",
   "metadata": {},
   "outputs": [
    {
     "data": {
      "text/plain": [
       "benign    2\n",
       "Name: state, dtype: int64"
      ]
     },
     "execution_count": 313,
     "metadata": {},
     "output_type": "execute_result"
    }
   ],
   "source": [
    "temp=df[df['diagnosis']==lst[count]]['state'].value_counts()\n",
    "temp"
   ]
  },
  {
   "cell_type": "code",
   "execution_count": 314,
   "id": "9d41030a",
   "metadata": {},
   "outputs": [
    {
     "data": {
      "image/png": "[encoded data removed]",
      "text/plain": [
       "<Figure size 432x288 with 1 Axes>"
      ]
     },
     "metadata": {},
     "output_type": "display_data"
    }
   ],
   "source": [
    "plt.pyplot.title(lst[count])\n",
    "plt.pyplot.pie(temp,autopct='%1.1f%%',startangle=90,colors=['violet','purple'],labels=['benign'])\n",
    "count=count+1\n",
    "if count==32:\n",
    "    count=0"
   ]
  },
  {
   "cell_type": "code",
   "execution_count": 315,
   "id": "871ea6d7",
   "metadata": {},
   "outputs": [
    {
     "data": {
      "text/plain": [
       "benign    4\n",
       "Name: state, dtype: int64"
      ]
     },
     "execution_count": 315,
     "metadata": {},
     "output_type": "execute_result"
    }
   ],
   "source": [
    "temp=df[df['diagnosis']==lst[count]]['state'].value_counts()\n",
    "temp"
   ]
  },
  {
   "cell_type": "code",
   "execution_count": 316,
   "id": "fe573cfb",
   "metadata": {},
   "outputs": [
    {
     "data": {
      "image/png": "[encoded data removed]",
      "text/plain": [
       "<Figure size 432x288 with 1 Axes>"
      ]
     },
     "metadata": {},
     "output_type": "display_data"
    }
   ],
   "source": [
    "plt.pyplot.title(lst[count])\n",
    "plt.pyplot.pie(temp,autopct='%1.1f%%',startangle=90,colors=['violet','purple'],labels=['benign'])\n",
    "count=count+1\n",
    "if count==32:\n",
    "    count=0"
   ]
  },
  {
   "cell_type": "code",
   "execution_count": 317,
   "id": "cd832488",
   "metadata": {},
   "outputs": [
    {
     "data": {
      "text/plain": [
       "benign    2\n",
       "Name: state, dtype: int64"
      ]
     },
     "execution_count": 317,
     "metadata": {},
     "output_type": "execute_result"
    }
   ],
   "source": [
    "temp=df[df['diagnosis']==lst[count]]['state'].value_counts()\n",
    "temp"
   ]
  },
  {
   "cell_type": "code",
   "execution_count": 318,
   "id": "bd44cd4b",
   "metadata": {},
   "outputs": [
    {
     "data": {
      "image/png": "[encoded data removed]",
      "text/plain": [
       "<Figure size 432x288 with 1 Axes>"
      ]
     },
     "metadata": {},
     "output_type": "display_data"
    }
   ],
   "source": [
    "plt.pyplot.title(lst[count])\n",
    "plt.pyplot.pie(temp,autopct='%1.1f%%',startangle=90,colors=['violet','purple'],labels=['benign'])\n",
    "count=count+1\n",
    "if count==32:\n",
    "    count=0"
   ]
  },
  {
   "cell_type": "code",
   "execution_count": 319,
   "id": "7502dac1",
   "metadata": {},
   "outputs": [
    {
     "data": {
      "text/plain": [
       "malignant    149\n",
       "benign         4\n",
       "Name: state, dtype: int64"
      ]
     },
     "execution_count": 319,
     "metadata": {},
     "output_type": "execute_result"
    }
   ],
   "source": [
    "temp=df[df['diagnosis']==lst[count]]['state'].value_counts()\n",
    "temp"
   ]
  },
  {
   "cell_type": "code",
   "execution_count": 320,
   "id": "34f4403c",
   "metadata": {},
   "outputs": [
    {
     "data": {
      "image/png": "[encoded data removed]",
      "text/plain": [
       "<Figure size 432x288 with 1 Axes>"
      ]
     },
     "metadata": {},
     "output_type": "display_data"
    }
   ],
   "source": [
    "plt.pyplot.title(lst[count])\n",
    "plt.pyplot.pie(temp,autopct='%1.1f%%',startangle=90,colors=['violet','purple'],labels=['malignant','benign'],explode=[0,0.1])\n",
    "count=count+1\n",
    "if count==32:\n",
    "    count=0"
   ]
  },
  {
   "cell_type": "code",
   "execution_count": 321,
   "id": "495616d5",
   "metadata": {},
   "outputs": [
    {
     "data": {
      "text/plain": [
       "malignant    23\n",
       "Name: state, dtype: int64"
      ]
     },
     "execution_count": 321,
     "metadata": {},
     "output_type": "execute_result"
    }
   ],
   "source": [
    "temp=df[df['diagnosis']==lst[count]]['state'].value_counts()\n",
    "temp"
   ]
  },
  {
   "cell_type": "code",
   "execution_count": 322,
   "id": "839836be",
   "metadata": {},
   "outputs": [
    {
     "data": {
      "image/png": "[encoded data removed]",
      "text/plain": [
       "<Figure size 432x288 with 1 Axes>"
      ]
     },
     "metadata": {},
     "output_type": "display_data"
    }
   ],
   "source": [
    "plt.pyplot.title(lst[count])\n",
    "plt.pyplot.pie(temp,autopct='%1.1f%%',startangle=90,colors=['violet','purple'],labels=['malignant'],explode=[0.1])\n",
    "count=count+1\n",
    "if count==32:\n",
    "    count=0"
   ]
  },
  {
   "cell_type": "code",
   "execution_count": 323,
   "id": "0506bbfa",
   "metadata": {},
   "outputs": [
    {
     "data": {
      "text/plain": [
       "malignant    1\n",
       "Name: state, dtype: int64"
      ]
     },
     "execution_count": 323,
     "metadata": {},
     "output_type": "execute_result"
    }
   ],
   "source": [
    "temp=df[df['diagnosis']==lst[count]]['state'].value_counts()\n",
    "temp"
   ]
  },
  {
   "cell_type": "code",
   "execution_count": 324,
   "id": "b1b7842a",
   "metadata": {},
   "outputs": [
    {
     "data": {
      "image/png": "[encoded data removed]",
      "text/plain": [
       "<Figure size 432x288 with 1 Axes>"
      ]
     },
     "metadata": {},
     "output_type": "display_data"
    }
   ],
   "source": [
    "plt.pyplot.title(lst[count])\n",
    "plt.pyplot.pie(temp,autopct='%1.1f%%',startangle=90,colors=['violet','purple'],labels=['malignant'],explode=[0.1])\n",
    "count=count+1\n",
    "if count==32:\n",
    "    count=0"
   ]
  },
  {
   "cell_type": "code",
   "execution_count": 325,
   "id": "7a464a7c",
   "metadata": {},
   "outputs": [
    {
     "data": {
      "text/plain": [
       "malignant    1\n",
       "Name: state, dtype: int64"
      ]
     },
     "execution_count": 325,
     "metadata": {},
     "output_type": "execute_result"
    }
   ],
   "source": [
    "temp=df[df['diagnosis']==lst[count]]['state'].value_counts()\n",
    "temp"
   ]
  },
  {
   "cell_type": "code",
   "execution_count": 326,
   "id": "a0bbcfaf",
   "metadata": {},
   "outputs": [
    {
     "data": {
      "image/png": "[encoded data removed]",
      "text/plain": [
       "<Figure size 432x288 with 1 Axes>"
      ]
     },
     "metadata": {},
     "output_type": "display_data"
    }
   ],
   "source": [
    "plt.pyplot.title(lst[count])\n",
    "plt.pyplot.pie(temp,autopct='%1.1f%%',startangle=90,colors=['violet','purple'],labels=['malignant'],explode=[0.1])\n",
    "count=count+1\n",
    "if count==32:\n",
    "    count=0"
   ]
  },
  {
   "cell_type": "code",
   "execution_count": 327,
   "id": "530df4c6",
   "metadata": {},
   "outputs": [
    {
     "data": {
      "text/plain": [
       "malignant    1\n",
       "Name: state, dtype: int64"
      ]
     },
     "execution_count": 327,
     "metadata": {},
     "output_type": "execute_result"
    }
   ],
   "source": [
    "temp=df[df['diagnosis']==lst[count]]['state'].value_counts()\n",
    "temp"
   ]
  },
  {
   "cell_type": "code",
   "execution_count": 328,
   "id": "ebee1885",
   "metadata": {},
   "outputs": [
    {
     "data": {
      "image/png": "[encoded data removed]",
      "text/plain": [
       "<Figure size 432x288 with 1 Axes>"
      ]
     },
     "metadata": {},
     "output_type": "display_data"
    }
   ],
   "source": [
    "plt.pyplot.title(lst[count])\n",
    "plt.pyplot.pie(temp,autopct='%1.1f%%',startangle=90,colors=['violet','purple'],labels=['malignant'],explode=[0.1])\n",
    "count=count+1\n",
    "if count==32:\n",
    "    count=0"
   ]
  },
  {
   "cell_type": "code",
   "execution_count": 329,
   "id": "33d219bc",
   "metadata": {},
   "outputs": [
    {
     "data": {
      "text/plain": [
       "malignant    7\n",
       "Name: state, dtype: int64"
      ]
     },
     "execution_count": 329,
     "metadata": {},
     "output_type": "execute_result"
    }
   ],
   "source": [
    "temp=df[df['diagnosis']==lst[count]]['state'].value_counts()\n",
    "temp"
   ]
  },
  {
   "cell_type": "code",
   "execution_count": 330,
   "id": "05b64d4b",
   "metadata": {},
   "outputs": [
    {
     "data": {
      "image/png": "[encoded data removed]",
      "text/plain": [
       "<Figure size 432x288 with 1 Axes>"
      ]
     },
     "metadata": {},
     "output_type": "display_data"
    }
   ],
   "source": [
    "plt.pyplot.title(lst[count])\n",
    "plt.pyplot.pie(temp,autopct='%1.1f%%',startangle=90,colors=['violet','purple'],labels=['malignant'],explode=[0.1])\n",
    "count=count+1\n",
    "if count==32:\n",
    "    count=0"
   ]
  },
  {
   "cell_type": "code",
   "execution_count": 331,
   "id": "ff9c0619",
   "metadata": {},
   "outputs": [
    {
     "data": {
      "text/plain": [
       "malignant    2\n",
       "Name: state, dtype: int64"
      ]
     },
     "execution_count": 331,
     "metadata": {},
     "output_type": "execute_result"
    }
   ],
   "source": [
    "temp=df[df['diagnosis']==lst[count]]['state'].value_counts()\n",
    "temp"
   ]
  },
  {
   "cell_type": "code",
   "execution_count": 332,
   "id": "dd10dc5a",
   "metadata": {},
   "outputs": [
    {
     "data": {
      "image/png": "[encoded data removed]",
      "text/plain": [
       "<Figure size 432x288 with 1 Axes>"
      ]
     },
     "metadata": {},
     "output_type": "display_data"
    }
   ],
   "source": [
    "plt.pyplot.title(lst[count])\n",
    "plt.pyplot.pie(temp,autopct='%1.1f%%',startangle=90,colors=['violet','purple'],labels=['malignant'],explode=[0.1])\n",
    "count=count+1\n",
    "if count==32:\n",
    "    count=0"
   ]
  },
  {
   "cell_type": "code",
   "execution_count": 333,
   "id": "0a5294d8",
   "metadata": {},
   "outputs": [
    {
     "data": {
      "text/plain": [
       "malignant    1\n",
       "Name: state, dtype: int64"
      ]
     },
     "execution_count": 333,
     "metadata": {},
     "output_type": "execute_result"
    }
   ],
   "source": [
    "temp=df[df['diagnosis']==lst[count]]['state'].value_counts()\n",
    "temp"
   ]
  },
  {
   "cell_type": "code",
   "execution_count": 334,
   "id": "08618d62",
   "metadata": {},
   "outputs": [
    {
     "data": {
      "image/png": "[encoded data removed]",
      "text/plain": [
       "<Figure size 432x288 with 1 Axes>"
      ]
     },
     "metadata": {},
     "output_type": "display_data"
    }
   ],
   "source": [
    "plt.pyplot.title(lst[count])\n",
    "plt.pyplot.pie(temp,autopct='%1.1f%%',startangle=90,colors=['violet','purple'],labels=['malignant'],explode=[0.1])\n",
    "count=count+1\n",
    "if count==32:\n",
    "    count=0"
   ]
  },
  {
   "cell_type": "code",
   "execution_count": 335,
   "id": "a7e6e9e1",
   "metadata": {},
   "outputs": [
    {
     "data": {
      "text/plain": [
       "malignant    4\n",
       "Name: state, dtype: int64"
      ]
     },
     "execution_count": 335,
     "metadata": {},
     "output_type": "execute_result"
    }
   ],
   "source": [
    "temp=df[df['diagnosis']==lst[count]]['state'].value_counts()\n",
    "temp"
   ]
  },
  {
   "cell_type": "code",
   "execution_count": 336,
   "id": "5ceca0e5",
   "metadata": {},
   "outputs": [
    {
     "data": {
      "image/png": "[encoded data removed]",
      "text/plain": [
       "<Figure size 432x288 with 1 Axes>"
      ]
     },
     "metadata": {},
     "output_type": "display_data"
    }
   ],
   "source": [
    "plt.pyplot.title(lst[count])\n",
    "plt.pyplot.pie(temp,autopct='%1.1f%%',startangle=90,colors=['violet','purple'],labels=['malignant'],explode=[0.1])\n",
    "count=count+1\n",
    "if count==32:\n",
    "    count=0"
   ]
  },
  {
   "cell_type": "code",
   "execution_count": 337,
   "id": "69af0663",
   "metadata": {},
   "outputs": [
    {
     "data": {
      "text/plain": [
       "malignant    1\n",
       "Name: state, dtype: int64"
      ]
     },
     "execution_count": 337,
     "metadata": {},
     "output_type": "execute_result"
    }
   ],
   "source": [
    "temp=df[df['diagnosis']==lst[count]]['state'].value_counts()\n",
    "temp"
   ]
  },
  {
   "cell_type": "code",
   "execution_count": 338,
   "id": "51b66045",
   "metadata": {},
   "outputs": [
    {
     "data": {
      "image/png": "[encoded data removed]",
      "text/plain": [
       "<Figure size 432x288 with 1 Axes>"
      ]
     },
     "metadata": {},
     "output_type": "display_data"
    }
   ],
   "source": [
    "plt.pyplot.title(lst[count])\n",
    "plt.pyplot.pie(temp,autopct='%1.1f%%',startangle=90,colors=['violet','purple'],labels=['malignant'],explode=[0.1])\n",
    "count=count+1\n",
    "if count==32:\n",
    "    count=0"
   ]
  },
  {
   "cell_type": "code",
   "execution_count": 339,
   "id": "76ae8301",
   "metadata": {},
   "outputs": [
    {
     "data": {
      "text/plain": [
       "malignant    1\n",
       "Name: state, dtype: int64"
      ]
     },
     "execution_count": 339,
     "metadata": {},
     "output_type": "execute_result"
    }
   ],
   "source": [
    "temp=df[df['diagnosis']==lst[count]]['state'].value_counts()\n",
    "temp"
   ]
  },
  {
   "cell_type": "code",
   "execution_count": 340,
   "id": "25bcdc27",
   "metadata": {},
   "outputs": [
    {
     "data": {
      "image/png": "[encoded data removed]",
      "text/plain": [
       "<Figure size 432x288 with 1 Axes>"
      ]
     },
     "metadata": {},
     "output_type": "display_data"
    }
   ],
   "source": [
    "plt.pyplot.title(lst[count])\n",
    "plt.pyplot.pie(temp,autopct='%1.1f%%',startangle=90,colors=['violet','purple'],labels=['malignant'],explode=[0.1])\n",
    "count=count+1\n",
    "if count==32:\n",
    "    count=0"
   ]
  },
  {
   "cell_type": "code",
   "execution_count": 341,
   "id": "d61e3f69",
   "metadata": {},
   "outputs": [
    {
     "data": {
      "text/plain": [
       "malignant    1\n",
       "Name: state, dtype: int64"
      ]
     },
     "execution_count": 341,
     "metadata": {},
     "output_type": "execute_result"
    }
   ],
   "source": [
    "temp=df[df['diagnosis']==lst[count]]['state'].value_counts()\n",
    "temp"
   ]
  },
  {
   "cell_type": "code",
   "execution_count": 342,
   "id": "336f1421",
   "metadata": {},
   "outputs": [
    {
     "data": {
      "image/png": "[encoded data removed]",
      "text/plain": [
       "<Figure size 432x288 with 1 Axes>"
      ]
     },
     "metadata": {},
     "output_type": "display_data"
    }
   ],
   "source": [
    "plt.pyplot.title(lst[count])\n",
    "plt.pyplot.pie(temp,autopct='%1.1f%%',startangle=90,colors=['violet','purple'],labels=['malignant'],explode=[0.1])\n",
    "count=count+1\n",
    "if count==32:\n",
    "    count=0"
   ]
  },
  {
   "cell_type": "code",
   "execution_count": 343,
   "id": "02aa19e9",
   "metadata": {},
   "outputs": [
    {
     "data": {
      "text/plain": [
       "benign    1\n",
       "Name: state, dtype: int64"
      ]
     },
     "execution_count": 343,
     "metadata": {},
     "output_type": "execute_result"
    }
   ],
   "source": [
    "temp=df[df['diagnosis']==lst[count]]['state'].value_counts()\n",
    "temp"
   ]
  },
  {
   "cell_type": "code",
   "execution_count": 344,
   "id": "caaa9534",
   "metadata": {},
   "outputs": [
    {
     "data": {
      "image/png": "[encoded data removed]",
      "text/plain": [
       "<Figure size 432x288 with 1 Axes>"
      ]
     },
     "metadata": {},
     "output_type": "display_data"
    }
   ],
   "source": [
    "plt.pyplot.title(lst[count])\n",
    "plt.pyplot.pie(temp,autopct='%1.1f%%',startangle=90,colors=['violet','purple'],labels=['benign'],explode=[0.1])\n",
    "count=count+1\n",
    "if count==32:\n",
    "    count=0"
   ]
  },
  {
   "cell_type": "code",
   "execution_count": 345,
   "id": "1a99e3a8",
   "metadata": {},
   "outputs": [
    {
     "data": {
      "text/plain": [
       "benign    1\n",
       "Name: state, dtype: int64"
      ]
     },
     "execution_count": 345,
     "metadata": {},
     "output_type": "execute_result"
    }
   ],
   "source": [
    "temp=df[df['diagnosis']==lst[count]]['state'].value_counts()\n",
    "temp"
   ]
  },
  {
   "cell_type": "code",
   "execution_count": 346,
   "id": "a698ffd3",
   "metadata": {},
   "outputs": [
    {
     "data": {
      "image/png": "[encoded data removed]",
      "text/plain": [
       "<Figure size 432x288 with 1 Axes>"
      ]
     },
     "metadata": {},
     "output_type": "display_data"
    }
   ],
   "source": [
    "plt.pyplot.title(lst[count])\n",
    "plt.pyplot.pie(temp,autopct='%1.1f%%',startangle=90,colors=['violet','purple'],labels=['benign'],explode=[0.1])\n",
    "count=count+1\n",
    "if count==32:\n",
    "    count=0"
   ]
  },
  {
   "cell_type": "code",
   "execution_count": 347,
   "id": "c9f7d794",
   "metadata": {},
   "outputs": [
    {
     "data": {
      "text/plain": [
       "benign    2\n",
       "Name: state, dtype: int64"
      ]
     },
     "execution_count": 347,
     "metadata": {},
     "output_type": "execute_result"
    }
   ],
   "source": [
    "temp=df[df['diagnosis']==lst[count]]['state'].value_counts()\n",
    "temp"
   ]
  },
  {
   "cell_type": "code",
   "execution_count": 348,
   "id": "101422bf",
   "metadata": {},
   "outputs": [
    {
     "data": {
      "image/png": "[encoded data removed]",
      "text/plain": [
       "<Figure size 432x288 with 1 Axes>"
      ]
     },
     "metadata": {},
     "output_type": "display_data"
    }
   ],
   "source": [
    "plt.pyplot.title(lst[count])\n",
    "plt.pyplot.pie(temp,autopct='%1.1f%%',startangle=90,colors=['violet','purple'],labels=['benign'],explode=[0.1])\n",
    "count=count+1\n",
    "if count==32:\n",
    "    count=0"
   ]
  },
  {
   "cell_type": "code",
   "execution_count": 349,
   "id": "a4796e16",
   "metadata": {},
   "outputs": [
    {
     "data": {
      "text/plain": [
       "benign    3\n",
       "Name: state, dtype: int64"
      ]
     },
     "execution_count": 349,
     "metadata": {},
     "output_type": "execute_result"
    }
   ],
   "source": [
    "temp=df[df['diagnosis']==lst[count]]['state'].value_counts()\n",
    "temp"
   ]
  },
  {
   "cell_type": "code",
   "execution_count": 350,
   "id": "9d6a5b13",
   "metadata": {},
   "outputs": [
    {
     "data": {
      "image/png": "[encoded data removed]",
      "text/plain": [
       "<Figure size 432x288 with 1 Axes>"
      ]
     },
     "metadata": {},
     "output_type": "display_data"
    }
   ],
   "source": [
    "plt.pyplot.title(lst[count])\n",
    "plt.pyplot.pie(temp,autopct='%1.1f%%',startangle=90,colors=['violet','purple'],labels=['benign'],explode=[0.1])\n",
    "count=count+1\n",
    "if count==32:\n",
    "    count=0"
   ]
  },
  {
   "cell_type": "code",
   "execution_count": 351,
   "id": "c39f84c4",
   "metadata": {},
   "outputs": [
    {
     "data": {
      "text/plain": [
       "benign    3\n",
       "Name: state, dtype: int64"
      ]
     },
     "execution_count": 351,
     "metadata": {},
     "output_type": "execute_result"
    }
   ],
   "source": [
    "temp=df[df['diagnosis']==lst[count]]['state'].value_counts()\n",
    "temp"
   ]
  },
  {
   "cell_type": "code",
   "execution_count": 352,
   "id": "3bfcd7da",
   "metadata": {},
   "outputs": [
    {
     "data": {
      "image/png": "[encoded data removed]",
      "text/plain": [
       "<Figure size 432x288 with 1 Axes>"
      ]
     },
     "metadata": {},
     "output_type": "display_data"
    }
   ],
   "source": [
    "plt.pyplot.title(lst[count])\n",
    "plt.pyplot.pie(temp,autopct='%1.1f%%',startangle=90,colors=['violet','purple'],labels=['benign'],explode=[0.1])\n",
    "count=count+1\n",
    "if count==32:\n",
    "    count=0"
   ]
  },
  {
   "cell_type": "code",
   "execution_count": 353,
   "id": "70723cd8",
   "metadata": {},
   "outputs": [
    {
     "data": {
      "text/plain": [
       "benign    2\n",
       "Name: state, dtype: int64"
      ]
     },
     "execution_count": 353,
     "metadata": {},
     "output_type": "execute_result"
    }
   ],
   "source": [
    "temp=df[df['diagnosis']==lst[count]]['state'].value_counts()\n",
    "temp"
   ]
  },
  {
   "cell_type": "code",
   "execution_count": 354,
   "id": "1df757f8",
   "metadata": {},
   "outputs": [
    {
     "data": {
      "image/png": "[encoded data removed]",
      "text/plain": [
       "<Figure size 432x288 with 1 Axes>"
      ]
     },
     "metadata": {},
     "output_type": "display_data"
    }
   ],
   "source": [
    "plt.pyplot.title(lst[count])\n",
    "plt.pyplot.pie(temp,autopct='%1.1f%%',startangle=90,colors=['violet','purple'],labels=['benign'],explode=[0.1])\n",
    "count=count+1\n",
    "if count==32:\n",
    "    count=0"
   ]
  },
  {
   "cell_type": "code",
   "execution_count": 355,
   "id": "a7102d38",
   "metadata": {},
   "outputs": [
    {
     "data": {
      "text/plain": [
       "benign    1\n",
       "Name: state, dtype: int64"
      ]
     },
     "execution_count": 355,
     "metadata": {},
     "output_type": "execute_result"
    }
   ],
   "source": [
    "temp=df[df['diagnosis']==lst[count]]['state'].value_counts()\n",
    "temp"
   ]
  },
  {
   "cell_type": "code",
   "execution_count": 356,
   "id": "3e35c4f8",
   "metadata": {},
   "outputs": [
    {
     "data": {
      "image/png": "[encoded data removed]",
      "text/plain": [
       "<Figure size 432x288 with 1 Axes>"
      ]
     },
     "metadata": {},
     "output_type": "display_data"
    }
   ],
   "source": [
    "plt.pyplot.title(lst[count])\n",
    "plt.pyplot.pie(temp,autopct='%1.1f%%',startangle=90,colors=['violet','purple'],labels=['benign'],explode=[0.1])\n",
    "count=count+1\n",
    "if count==32:\n",
    "    count=0"
   ]
  },
  {
   "cell_type": "code",
   "execution_count": 357,
   "id": "13b07406",
   "metadata": {},
   "outputs": [
    {
     "data": {
      "text/plain": [
       "benign    2\n",
       "Name: state, dtype: int64"
      ]
     },
     "execution_count": 357,
     "metadata": {},
     "output_type": "execute_result"
    }
   ],
   "source": [
    "temp=df[df['diagnosis']==lst[count]]['state'].value_counts()\n",
    "temp"
   ]
  },
  {
   "cell_type": "code",
   "execution_count": 358,
   "id": "c7ea6dc0",
   "metadata": {},
   "outputs": [
    {
     "data": {
      "image/png": "[encoded data removed]",
      "text/plain": [
       "<Figure size 432x288 with 1 Axes>"
      ]
     },
     "metadata": {},
     "output_type": "display_data"
    }
   ],
   "source": [
    "plt.pyplot.title(lst[count])\n",
    "plt.pyplot.pie(temp,autopct='%1.1f%%',startangle=90,colors=['violet','purple'],labels=['benign'],explode=[0.1])\n",
    "count=count+1\n",
    "if count==32:\n",
    "    count=0"
   ]
  },
  {
   "cell_type": "code",
   "execution_count": 359,
   "id": "634f2300",
   "metadata": {},
   "outputs": [
    {
     "data": {
      "text/plain": [
       "malignant    1\n",
       "Name: state, dtype: int64"
      ]
     },
     "execution_count": 359,
     "metadata": {},
     "output_type": "execute_result"
    }
   ],
   "source": [
    "temp=df[df['diagnosis']==lst[count]]['state'].value_counts()\n",
    "temp"
   ]
  },
  {
   "cell_type": "code",
   "execution_count": 360,
   "id": "12609215",
   "metadata": {},
   "outputs": [
    {
     "data": {
      "image/png": "[encoded data removed]",
      "text/plain": [
       "<Figure size 432x288 with 1 Axes>"
      ]
     },
     "metadata": {},
     "output_type": "display_data"
    }
   ],
   "source": [
    "plt.pyplot.title(lst[count])\n",
    "plt.pyplot.pie(temp,autopct='%1.1f%%',startangle=90,colors=['violet','purple'],labels=['malignant'],explode=[0.1])\n",
    "count=count+1\n",
    "if count==32:\n",
    "    count=0"
   ]
  },
  {
   "cell_type": "code",
   "execution_count": 361,
   "id": "48df67a1",
   "metadata": {},
   "outputs": [
    {
     "data": {
      "text/plain": [
       "benign    1\n",
       "Name: state, dtype: int64"
      ]
     },
     "execution_count": 361,
     "metadata": {},
     "output_type": "execute_result"
    }
   ],
   "source": [
    "temp=df[df['diagnosis']==lst[count]]['state'].value_counts()\n",
    "temp"
   ]
  },
  {
   "cell_type": "code",
   "execution_count": 362,
   "id": "8031dc8e",
   "metadata": {},
   "outputs": [
    {
     "data": {
      "image/png": "[encoded data removed]",
      "text/plain": [
       "<Figure size 432x288 with 1 Axes>"
      ]
     },
     "metadata": {},
     "output_type": "display_data"
    }
   ],
   "source": [
    "plt.pyplot.title(lst[count])\n",
    "plt.pyplot.pie(temp,autopct='%1.1f%%',startangle=90,colors=['violet','purple'],labels=['benign'],explode=[0.1])\n",
    "count=count+1\n",
    "if count==32:\n",
    "    count=0"
   ]
  },
  {
   "cell_type": "code",
   "execution_count": 363,
   "id": "7b961cc5",
   "metadata": {},
   "outputs": [
    {
     "data": {
      "text/plain": [
       "benign    1\n",
       "Name: state, dtype: int64"
      ]
     },
     "execution_count": 363,
     "metadata": {},
     "output_type": "execute_result"
    }
   ],
   "source": [
    "temp=df[df['diagnosis']==lst[count]]['state'].value_counts()\n",
    "temp"
   ]
  },
  {
   "cell_type": "code",
   "execution_count": 364,
   "id": "a67efff0",
   "metadata": {},
   "outputs": [
    {
     "data": {
      "image/png": "[encoded data removed]",
      "text/plain": [
       "<Figure size 432x288 with 1 Axes>"
      ]
     },
     "metadata": {},
     "output_type": "display_data"
    }
   ],
   "source": [
    "plt.pyplot.title(lst[count])\n",
    "plt.pyplot.pie(temp,autopct='%1.1f%%',startangle=90,colors=['violet','purple'],labels=['benign'],explode=[0.1])\n",
    "count=count+1\n",
    "if count==32:\n",
    "    count=0"
   ]
  },
  {
   "cell_type": "code",
   "execution_count": 365,
   "id": "e5b9bb94",
   "metadata": {},
   "outputs": [
    {
     "data": {
      "text/plain": [
       "benign    14\n",
       "Name: state, dtype: int64"
      ]
     },
     "execution_count": 365,
     "metadata": {},
     "output_type": "execute_result"
    }
   ],
   "source": [
    "temp=df[df['diagnosis']==lst[count]]['state'].value_counts()\n",
    "temp"
   ]
  },
  {
   "cell_type": "code",
   "execution_count": 366,
   "id": "a970e91a",
   "metadata": {},
   "outputs": [
    {
     "data": {
      "image/png": "[encoded data removed]",
      "text/plain": [
       "<Figure size 432x288 with 1 Axes>"
      ]
     },
     "metadata": {},
     "output_type": "display_data"
    }
   ],
   "source": [
    "plt.pyplot.title(lst[count])\n",
    "plt.pyplot.pie(temp,autopct='%1.1f%%',startangle=90,colors=['violet','purple'],labels=['benign'],explode=[0.1])\n",
    "count=count+1\n",
    "if count==32:\n",
    "    count=0"
   ]
  },
  {
   "cell_type": "code",
   "execution_count": null,
   "id": "621d0c53",
   "metadata": {},
   "outputs": [],
   "source": []
  },
  {
   "cell_type": "code",
   "execution_count": null,
   "id": "fa6bdd51",
   "metadata": {},
   "outputs": [],
   "source": []
  }
 ],
 "metadata": {
  "kernelspec": {
   "display_name": "Python 3 (ipykernel)",
   "language": "python",
   "name": "python3"
  },
  "language_info": {
   "codemirror_mode": {
    "name": "ipython",
    "version": 3
   },
   "file_extension": ".py",
   "mimetype": "text/x-python",
   "name": "python",
   "nbconvert_exporter": "python",
   "pygments_lexer": "ipython3",
   "version": "3.9.7"
  }
 },
 "nbformat": 4,
 "nbformat_minor": 5
}
